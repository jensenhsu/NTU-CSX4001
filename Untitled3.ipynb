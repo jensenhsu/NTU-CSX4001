{
 "cells": [
  {
   "cell_type": "code",
   "execution_count": 1,
   "metadata": {},
   "outputs": [
    {
     "data": {
      "text/html": [
       "<div>\n",
       "<style scoped>\n",
       "    .dataframe tbody tr th:only-of-type {\n",
       "        vertical-align: middle;\n",
       "    }\n",
       "\n",
       "    .dataframe tbody tr th {\n",
       "        vertical-align: top;\n",
       "    }\n",
       "\n",
       "    .dataframe thead th {\n",
       "        text-align: right;\n",
       "    }\n",
       "</style>\n",
       "<table border=\"1\" class=\"dataframe\">\n",
       "  <thead>\n",
       "    <tr style=\"text-align: right;\">\n",
       "      <th></th>\n",
       "      <th>您的性別</th>\n",
       "      <th>您的年齡</th>\n",
       "      <th>您的居住地（不限設籍）</th>\n",
       "      <th>您平常有使用桃園市市民卡手機app的習慣嗎？</th>\n",
       "      <th>您知道許多超市已有推行即期品促銷的活動嗎？</th>\n",
       "      <th>在沒有特價的情況下，您對於即期品的購買意願？</th>\n",
       "      <th>若即期品提供折扣，您可以接受的「最高」價格為該商品原價打幾折？</th>\n",
       "      <th>關於即期品促銷活動，您的任何想法與回饋</th>\n",
       "      <th>若現在有一款app，顯示附近提供即期品的商家位置與資訊（GPS定位），以及即期品資訊即時更新（存量、折扣折數），請問您是否有使用意願？</th>\n",
       "      <th>承上題，若此功能直接建立在桃園市市民卡app中，請問您是否有使用意願？</th>\n",
       "      <th>...</th>\n",
       "      <th>您的聯絡電話</th>\n",
       "      <th>您的電子信箱</th>\n",
       "      <th>填答時間</th>\n",
       "      <th>填答秒數</th>\n",
       "      <th>IP紀錄</th>\n",
       "      <th>額滿結束註記</th>\n",
       "      <th>使用者紀錄</th>\n",
       "      <th>會員時間</th>\n",
       "      <th>會員編號</th>\n",
       "      <th>備註</th>\n",
       "    </tr>\n",
       "  </thead>\n",
       "  <tbody>\n",
       "    <tr>\n",
       "      <td>0</td>\n",
       "      <td>生理男</td>\n",
       "      <td>40～49歲</td>\n",
       "      <td>八德區</td>\n",
       "      <td>每天使用</td>\n",
       "      <td>知道</td>\n",
       "      <td>不願意</td>\n",
       "      <td>五折</td>\n",
       "      <td>NaN</td>\n",
       "      <td>非常願意</td>\n",
       "      <td>非常願意</td>\n",
       "      <td>...</td>\n",
       "      <td>937092044</td>\n",
       "      <td>yang.wenli@msa.hinet.net</td>\n",
       "      <td>2020-06-17 16:15:47</td>\n",
       "      <td>103</td>\n",
       "      <td>114.37.78.112</td>\n",
       "      <td>NaN</td>\n",
       "      <td>NaN</td>\n",
       "      <td>NaN</td>\n",
       "      <td>NaN</td>\n",
       "      <td>NaN</td>\n",
       "    </tr>\n",
       "    <tr>\n",
       "      <td>1</td>\n",
       "      <td>生理女</td>\n",
       "      <td>40～49歲</td>\n",
       "      <td>八德區</td>\n",
       "      <td>每天使用</td>\n",
       "      <td>知道</td>\n",
       "      <td>不願意</td>\n",
       "      <td>四折以下</td>\n",
       "      <td>NaN</td>\n",
       "      <td>非常願意</td>\n",
       "      <td>非常願意</td>\n",
       "      <td>...</td>\n",
       "      <td>937092044</td>\n",
       "      <td>e22474@icloud.com</td>\n",
       "      <td>2020-06-17 16:18:18</td>\n",
       "      <td>74</td>\n",
       "      <td>114.37.78.112</td>\n",
       "      <td>NaN</td>\n",
       "      <td>NaN</td>\n",
       "      <td>NaN</td>\n",
       "      <td>NaN</td>\n",
       "      <td>NaN</td>\n",
       "    </tr>\n",
       "    <tr>\n",
       "      <td>2</td>\n",
       "      <td>生理女</td>\n",
       "      <td>40～49歲</td>\n",
       "      <td>八德區</td>\n",
       "      <td>時常使用，但一週不超過三次</td>\n",
       "      <td>不知道</td>\n",
       "      <td>願意</td>\n",
       "      <td>四折以下</td>\n",
       "      <td>只要產品沒變質都ok，不浪費食物</td>\n",
       "      <td>願意</td>\n",
       "      <td>願意</td>\n",
       "      <td>...</td>\n",
       "      <td>958420852</td>\n",
       "      <td>dear958420852@gmail.com</td>\n",
       "      <td>2020-06-17 19:20:11</td>\n",
       "      <td>147</td>\n",
       "      <td>101.136.28.250</td>\n",
       "      <td>NaN</td>\n",
       "      <td>NaN</td>\n",
       "      <td>NaN</td>\n",
       "      <td>NaN</td>\n",
       "      <td>NaN</td>\n",
       "    </tr>\n",
       "    <tr>\n",
       "      <td>3</td>\n",
       "      <td>生理女</td>\n",
       "      <td>30～39歲</td>\n",
       "      <td>八德區</td>\n",
       "      <td>從來沒用過</td>\n",
       "      <td>知道</td>\n",
       "      <td>不願意</td>\n",
       "      <td>九折</td>\n",
       "      <td>我覺得即期品能提供促銷不錯，可以撿到便宜</td>\n",
       "      <td>願意</td>\n",
       "      <td>願意</td>\n",
       "      <td>...</td>\n",
       "      <td>921971912</td>\n",
       "      <td>mary10186029@yahoo.com</td>\n",
       "      <td>2020-06-18 13:31:42</td>\n",
       "      <td>261</td>\n",
       "      <td>2001:b011:5c0e:184b:cc9f:ce20:b196:4be3</td>\n",
       "      <td>NaN</td>\n",
       "      <td>NaN</td>\n",
       "      <td>NaN</td>\n",
       "      <td>NaN</td>\n",
       "      <td>NaN</td>\n",
       "    </tr>\n",
       "    <tr>\n",
       "      <td>4</td>\n",
       "      <td>生理男</td>\n",
       "      <td>19～29歲</td>\n",
       "      <td>八德區</td>\n",
       "      <td>從來沒用過</td>\n",
       "      <td>知道</td>\n",
       "      <td>願意</td>\n",
       "      <td>七折</td>\n",
       "      <td>買一送一</td>\n",
       "      <td>願意</td>\n",
       "      <td>願意</td>\n",
       "      <td>...</td>\n",
       "      <td>981712825</td>\n",
       "      <td>nds10416@gmail.com</td>\n",
       "      <td>2020-06-18 15:40:25</td>\n",
       "      <td>77</td>\n",
       "      <td>122.116.5.57</td>\n",
       "      <td>NaN</td>\n",
       "      <td>NaN</td>\n",
       "      <td>NaN</td>\n",
       "      <td>NaN</td>\n",
       "      <td>NaN</td>\n",
       "    </tr>\n",
       "  </tbody>\n",
       "</table>\n",
       "<p>5 rows × 22 columns</p>\n",
       "</div>"
      ],
      "text/plain": [
       "  您的性別    您的年齡 您的居住地（不限設籍） 您平常有使用桃園市市民卡手機app的習慣嗎？ 您知道許多超市已有推行即期品促銷的活動嗎？  \\\n",
       "0  生理男  40～49歲         八德區                   每天使用                    知道   \n",
       "1  生理女  40～49歲         八德區                   每天使用                    知道   \n",
       "2  生理女  40～49歲         八德區          時常使用，但一週不超過三次                   不知道   \n",
       "3  生理女  30～39歲         八德區                  從來沒用過                    知道   \n",
       "4  生理男  19～29歲         八德區                  從來沒用過                    知道   \n",
       "\n",
       "  在沒有特價的情況下，您對於即期品的購買意願？ 若即期品提供折扣，您可以接受的「最高」價格為該商品原價打幾折？  \\\n",
       "0                    不願意                              五折   \n",
       "1                    不願意                            四折以下   \n",
       "2                     願意                            四折以下   \n",
       "3                    不願意                              九折   \n",
       "4                     願意                              七折   \n",
       "\n",
       "    關於即期品促銷活動，您的任何想法與回饋  \\\n",
       "0                   NaN   \n",
       "1                   NaN   \n",
       "2      只要產品沒變質都ok，不浪費食物   \n",
       "3  我覺得即期品能提供促銷不錯，可以撿到便宜   \n",
       "4                  買一送一   \n",
       "\n",
       "  若現在有一款app，顯示附近提供即期品的商家位置與資訊（GPS定位），以及即期品資訊即時更新（存量、折扣折數），請問您是否有使用意願？  \\\n",
       "0                                               非常願意                    \n",
       "1                                               非常願意                    \n",
       "2                                                 願意                    \n",
       "3                                                 願意                    \n",
       "4                                                 願意                    \n",
       "\n",
       "  承上題，若此功能直接建立在桃園市市民卡app中，請問您是否有使用意願？  ...     您的聯絡電話  \\\n",
       "0                                非常願意  ...  937092044   \n",
       "1                                非常願意  ...  937092044   \n",
       "2                                  願意  ...  958420852   \n",
       "3                                  願意  ...  921971912   \n",
       "4                                  願意  ...  981712825   \n",
       "\n",
       "                     您的電子信箱                 填答時間 填答秒數  \\\n",
       "0  yang.wenli@msa.hinet.net  2020-06-17 16:15:47  103   \n",
       "1         e22474@icloud.com  2020-06-17 16:18:18   74   \n",
       "2   dear958420852@gmail.com  2020-06-17 19:20:11  147   \n",
       "3    mary10186029@yahoo.com  2020-06-18 13:31:42  261   \n",
       "4        nds10416@gmail.com  2020-06-18 15:40:25   77   \n",
       "\n",
       "                                      IP紀錄  額滿結束註記 使用者紀錄  會員時間  會員編號  備註  \n",
       "0                            114.37.78.112     NaN   NaN   NaN   NaN NaN  \n",
       "1                            114.37.78.112     NaN   NaN   NaN   NaN NaN  \n",
       "2                           101.136.28.250     NaN   NaN   NaN   NaN NaN  \n",
       "3  2001:b011:5c0e:184b:cc9f:ce20:b196:4be3     NaN   NaN   NaN   NaN NaN  \n",
       "4                             122.116.5.57     NaN   NaN   NaN   NaN NaN  \n",
       "\n",
       "[5 rows x 22 columns]"
      ]
     },
     "execution_count": 1,
     "metadata": {},
     "output_type": "execute_result"
    }
   ],
   "source": [
    "import pandas as pd\n",
    "\n",
    "awaker_file = pd.read_csv(\"targets.csv\")\n",
    "awaker_file.head()"
   ]
  },
  {
   "cell_type": "code",
   "execution_count": 3,
   "metadata": {},
   "outputs": [
    {
     "data": {
      "text/plain": [
       "Index(['您的性別', '您的年齡', '您的居住地（不限設籍）', '您平常有使用桃園市市民卡手機app的習慣嗎？',\n",
       "       '您知道許多超市已有推行即期品促銷的活動嗎？', '在沒有特價的情況下，您對於即期品的購買意願？',\n",
       "       '若即期品提供折扣，您可以接受的「最高」價格為該商品原價打幾折？', '關於即期品促銷活動，您的任何想法與回饋',\n",
       "       '若現在有一款app，顯示附近提供即期品的商家位置與資訊（GPS定位），以及即期品資訊即時更新（存量、折扣折數），請問您是否有使用意願？',\n",
       "       '承上題，若此功能直接建立在桃園市市民卡app中，請問您是否有使用意願？', '關於即期品資訊整合app，您的任何想法與回饋', '您的姓名',\n",
       "       '您的聯絡電話', '您的電子信箱', '填答時間', '填答秒數', 'IP紀錄', '額滿結束註記', '使用者紀錄', '會員時間',\n",
       "       '會員編號', '備註'],\n",
       "      dtype='object')"
      ]
     },
     "execution_count": 3,
     "metadata": {},
     "output_type": "execute_result"
    }
   ],
   "source": [
    "awaker_file.columns"
   ]
  },
  {
   "cell_type": "code",
   "execution_count": 15,
   "metadata": {},
   "outputs": [],
   "source": [
    "content_df = awaker_file[[\"您的姓名\" , \"關於即期品資訊整合app，您的任何想法與回饋\"]]"
   ]
  },
  {
   "cell_type": "code",
   "execution_count": 66,
   "metadata": {},
   "outputs": [
    {
     "data": {
      "text/plain": [
       "['若整合於桃園市民卡中介面要清晰，市民卡APP中資訊很多，如何結合更有效的找到此項訊息是重要問題，若後臺的數據提供來源該要如何呈現各店家的提供意願，數據不夠多無法將想法達到最大效益',\n",
       " '若能在APP裡預約購買甚至直接付款，然後在一定時間內必須領取，失約者記點達標限制如三個月內不可購買(必須嚴厲)之類的，或許可以讓有意願購買的人不會到現場後白跑一趟，也警惕無心者不要浪費店家的時間，最終目的是讓即期品可以有效被使用不要浪費。',\n",
       " '更多商品的選擇跟免費的贈送活動',\n",
       " '能夠長久維持，並建立好剩餘數量即時監測等系統，避免民眾購買時撲空',\n",
       " '因為沒有桃園市市民卡，所以比較沒有太大的感觸',\n",
       " '住桃園但我沒有市民卡耶',\n",
       " '知道的太少了\\n多家一起弄導致沒有主流\\n所以大家根本不知道從哪得到資訊\\n也沒有意願主動得知資訊',\n",
       " '很不錯，但要有用，易操作',\n",
       " '要是附近才有比較有吸引力',\n",
       " '能每家超商都在app顯使數量和種類',\n",
       " '更新希望能盡量即時，通常即期品數量不多，如果每次看了app，可實際上卻早已被買光會讓人感覺不如不要設這個功能。',\n",
       " '也可以加入商家折扣優惠活動訊息 增加使用人數',\n",
       " '除了即期品也可以有其他優惠的資訊回饋\\n或者出示app可以有更優惠的方案',\n",
       " '因為桃園市民卡的APP主要都是資訊的傳達，很少會需要即時運用的功能，若有要建立在市民卡APP中，就必須要曾將APP的便利性及使用率',\n",
       " '若集中販賣，庫存量即時顯示很重要，或是分散到附近超商販賣',\n",
       " ' 盡可能 用其他方式集點 這樣比較好',\n",
       " '若以後能在App上就用查詢附近的即期商品，有需要才到賣場購買',\n",
       " '超商近日也有許多即期品，若結合超商再結合悠遊卡消費感覺會很快速消費很吸引人。',\n",
       " '怕到時手機慢半拍,即期賣完了,還跑去現場購買',\n",
       " '透過app讓市民得到立即優惠，減少剩食也省荷包',\n",
       " '可以即時找到附近有賣即期品的店家很方便',\n",
       " '整合資訊的透明度應先向大眾宣揚,減低反效果出現',\n",
       " '不知道超市會否用市民卡內資訊作任何用途',\n",
       " '整合令市民有個人資料被取的顧慮,建議應設立條款而作息除擔憂',\n",
       " '有顯示出商品種類.數量.價格',\n",
       " '結合現有科技或是APP，也可提高市民卡APP的使用率',\n",
       " '希望功能簡易 不要太複雜',\n",
       " '我覺得不錯，可以讓有需要的人購買，讓資源不浪費。',\n",
       " '希望合作的廠商愈多愈好',\n",
       " '應該會方便了解相關資訊及統合資訊',\n",
       " '可以多多分享與臉書讓更多人知道',\n",
       " '希望App功能簡化，太多繁雜程序不會想下載',\n",
       " '我覺得這個想法很好，可以執行',\n",
       " '注意銷售庫存之更新或開放限時預購',\n",
       " '不會特地為了即期品去某個特定商家, 更不會為了即期品開app, 除非是逛商家剛好遇到即期品特價, 才會購買',\n",
       " '讓有意願買的市民朋友更方便，也讓這些物品能及時被使用，非常棒',\n",
       " '最好要有數量及在線庫存核實\\n以免消費者撲空',\n",
       " '可以舉辦活動，讓大家更廣為知道，幫助愛食惜食']"
      ]
     },
     "execution_count": 66,
     "metadata": {},
     "output_type": "execute_result"
    }
   ],
   "source": [
    "content_series = content_df[\"關於即期品資訊整合app，您的任何想法與回饋\"]\n",
    "good_content = []\n",
    "for i in content_series:\n",
    "    if len(str(i)) > 10:\n",
    "        good_content.append(i)\n",
    "        \n",
    "good_content"
   ]
  },
  {
   "cell_type": "code",
   "execution_count": 61,
   "metadata": {},
   "outputs": [
    {
     "data": {
      "text/plain": [
       "287    何嘉琪\n",
       "Name: 您的姓名, dtype: object"
      ]
     },
     "execution_count": 61,
     "metadata": {},
     "output_type": "execute_result"
    }
   ],
   "source": [
    "good_content['您的姓名']"
   ]
  },
  {
   "cell_type": "code",
   "execution_count": 80,
   "metadata": {},
   "outputs": [
    {
     "data": {
      "text/plain": [
       "['6    楊子誼',\n",
       " '13    楊玉琴',\n",
       " '28    王妙君',\n",
       " '29    蕭竣',\n",
       " '40    劉秀恩',\n",
       " '44    白孟儒',\n",
       " '50    陳伯元',\n",
       " '53    朱曉郁',\n",
       " '55    楊曉雯',\n",
       " '60    林慧玲',\n",
       " '67    郭易安',\n",
       " '75    林嘉琦',\n",
       " '82    葉擎宏',\n",
       " '85    鍾岱娟',\n",
       " '90    洪睿嫻',\n",
       " '91    陳昱洽',\n",
       " '115    徐静儀',\n",
       " '141    洪鈺茹',\n",
       " '143    林雅慧',\n",
       " '150    劉惠雯',\n",
       " '151    洪薇婷',\n",
       " '154    李秀成',\n",
       " '155    楊思慧',\n",
       " '156    楊亞平',\n",
       " '159    石亦瑄',\n",
       " '165    鄭世榆',\n",
       " '171    陳彤妮',\n",
       " '181    毛子萱',\n",
       " '214    謝蘊紫',\n",
       " '225    郭淑芬',\n",
       " '226    林嘉惟',\n",
       " '228    謝欣妤',\n",
       " '242    邱義呈',\n",
       " '249    夏政平',\n",
       " '251    張華甄',\n",
       " '269    陳聰汶',\n",
       " '277    徐詩閔',\n",
       " '287    何嘉琪']"
      ]
     },
     "execution_count": 80,
     "metadata": {},
     "output_type": "execute_result"
    }
   ],
   "source": [
    "content_df[content_df[\"關於即期品資訊整合app，您的任何想法與回饋\"] == good_content[0]]\n",
    "\n",
    "good_content_name_list = []\n",
    "\n",
    "for i in good_content:\n",
    "     good_content_0 = content_df[content_df[\"關於即期品資訊整合app，您的任何想法與回饋\"] == i]\n",
    "     good_content_1 = str(good_content_0[\"您的姓名\"])\n",
    "     good_content_name_list.append(good_content_1)\n",
    " \n",
    "good_content_name_list_strip = []\n",
    "for i in good_content_name_list:\n",
    "    good_content_name_list_strip.append(i.strip('\\nName: 您的姓名, dtype: object'))\n",
    "    \n",
    "\n",
    "good_content_name_list_strip"
   ]
  },
  {
   "cell_type": "code",
   "execution_count": 95,
   "metadata": {},
   "outputs": [
    {
     "data": {
      "text/plain": [
       "620"
      ]
     },
     "execution_count": 95,
     "metadata": {},
     "output_type": "execute_result"
    }
   ],
   "source": [
    "name_series = content_df[\"您的姓名\"]\n",
    "name_list = list(name_series)\n",
    "double_name_list = name_list*2\n",
    "final_name_list = double_name_list + good_content_name_list_strip\n",
    "\n",
    "len(final_name_list)"
   ]
  },
  {
   "cell_type": "code",
   "execution_count": 102,
   "metadata": {},
   "outputs": [
    {
     "data": {
      "text/plain": [
       "['段姵慈', '彭伊辰', '洪健豪', '杜佳憲', '陳冠宏', '劉原均', '王紫群', '姜書育', '陳侑楷']"
      ]
     },
     "execution_count": 102,
     "metadata": {},
     "output_type": "execute_result"
    }
   ],
   "source": [
    "import random\n",
    "random_list = []\n",
    "for i in range(9):\n",
    "    random_index = random.randint(1 , len(name_list))\n",
    "    random_list.append(random_index)\n",
    "\n",
    "add_name = []\n",
    "    \n",
    "random_list\n",
    "for i in random_list:\n",
    "    add_name.append(name_list[i])\n",
    "    \n",
    "    \n",
    "add_name"
   ]
  },
  {
   "cell_type": "code",
   "execution_count": 113,
   "metadata": {},
   "outputs": [],
   "source": [
    "final_name_list_0 = final_name_list + add_name\n",
    "final_name_df = pd.DataFrame()\n",
    "final_name_df[\"姓名\"] = pd.Series(final_name_list_0)\n",
    "\n",
    "final_name_df.to_csv('name.csv', columns=[\"姓名\"])"
   ]
  },
  {
   "cell_type": "code",
   "execution_count": null,
   "metadata": {},
   "outputs": [],
   "source": []
  }
 ],
 "metadata": {
  "kernelspec": {
   "display_name": "Python 3",
   "language": "python",
   "name": "python3"
  },
  "language_info": {
   "codemirror_mode": {
    "name": "ipython",
    "version": 3
   },
   "file_extension": ".py",
   "mimetype": "text/x-python",
   "name": "python",
   "nbconvert_exporter": "python",
   "pygments_lexer": "ipython3",
   "version": "3.7.1"
  }
 },
 "nbformat": 4,
 "nbformat_minor": 2
}
