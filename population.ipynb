{
 "cells": [
  {
   "cell_type": "markdown",
   "metadata": {},
   "source": [
    "# 人口的分析\n",
    "## 分析人口的成長\n"
   ]
  },
  {
   "cell_type": "code",
   "execution_count": null,
   "metadata": {},
   "outputs": [],
   "source": [
    "!pip install pyquery "
   ]
  },
  {
   "cell_type": "code",
   "execution_count": 3,
   "metadata": {},
   "outputs": [],
   "source": [
    "import pandas as pd\n",
    "import numpy as np"
   ]
  },
  {
   "cell_type": "code",
   "execution_count": null,
   "metadata": {},
   "outputs": [],
   "source": [
    "from pyquery import PyQuery as pq\n",
    "url = \"https://zh.wikipedia.org/wiki/%E8%87%BA%E7%81%A3%E4%BA%BA%E5%8F%A3\"\n",
    "pop_doc = pq(url)"
   ]
  },
  {
   "cell_type": "code",
   "execution_count": 83,
   "metadata": {},
   "outputs": [
    {
     "data": {
      "text/plain": [
       "0    1981.0\n",
       "1    1982.0\n",
       "2    1983.0\n",
       "3    1984.0\n",
       "4    1985.0\n",
       "dtype: float64"
      ]
     },
     "execution_count": 83,
     "metadata": {},
     "output_type": "execute_result"
    }
   ],
   "source": [
    "year_list = [ ]\n",
    "year = pop_doc(\".wikitable th+ th\")\n",
    "for i in year:\n",
    "    year_list.append(i.text.strip().replace(\"年\", \"\"))\n",
    "#year_list\n",
    "year_ser = pd.Series(year_list)\n",
    "year_ser = year_ser.astype(float)\n",
    "year_ser.head()"
   ]
  },
  {
   "cell_type": "code",
   "execution_count": 115,
   "metadata": {},
   "outputs": [
    {
     "data": {
      "text/plain": [
       "0     18193955\n",
       "1     18515754\n",
       "2     18790538\n",
       "3     19069194\n",
       "4     19313825\n",
       "5     19509082\n",
       "6     19725010\n",
       "7     19954397\n",
       "8     20156587\n",
       "9     20401305\n",
       "10    20605831\n",
       "11    20802622\n",
       "12    20995416\n",
       "13    21177874\n",
       "14    21357431\n",
       "15    21525433\n",
       "16    21742815\n",
       "17    21928591\n",
       "18    22092387\n",
       "19    22276672\n",
       "20    22405568\n",
       "21    22520776\n",
       "22    22604550\n",
       "23    22689122\n",
       "24    22770383\n",
       "25    22876527\n",
       "26    22958360\n",
       "27    23037031\n",
       "28    23119772\n",
       "29    23162123\n",
       "30    23224912\n",
       "31    23315822\n",
       "32    23373517\n",
       "33    23433753\n",
       "34    23492074\n",
       "35    23539816\n",
       "36    23571227\n",
       "37    23588932\n",
       "38    23588932\n",
       "39    23588932\n",
       "dtype: object"
      ]
     },
     "execution_count": 115,
     "metadata": {},
     "output_type": "execute_result"
    }
   ],
   "source": [
    "pop_list = [ ]\n",
    "pop = pop_doc(\".wikitable tr:nth-child(11) td+ td , .wikitable tr:nth-child(8) td+ td , .wikitable tr:nth-child(5) td+ td , tr:nth-child(2) td+ td\")\n",
    "for i in pop:\n",
    "    pop_list.append(i.text.replace(\"\\n\",\"\").replace(\",\",\"\"))\n",
    "    \n",
    "del pop_list[38:40]\n",
    "pop_list.append(23588932)\n",
    "pop_list.append(23588932)\n",
    "pop_list\n",
    "pop_ser = pd.Series(pop_list)\n",
    "pop_ser"
   ]
  },
  {
   "cell_type": "code",
   "execution_count": 116,
   "metadata": {},
   "outputs": [],
   "source": [
    "df = pd.DataFrame()\n",
    "df[\"year\"] = year_ser\n",
    "df[\"population\"] = pop_ser\n",
    "pop_dataframe = df\n",
    "pop_dataframe = pop_dataframe.astype(float)"
   ]
  },
  {
   "cell_type": "code",
   "execution_count": 117,
   "metadata": {},
   "outputs": [
    {
     "data": {
      "text/plain": [
       "<matplotlib.axes._subplots.AxesSubplot at 0x11d04a828>"
      ]
     },
     "execution_count": 117,
     "metadata": {},
     "output_type": "execute_result"
    },
    {
     "data": {
      "image/png": "[encoded data removed]",
      "text/plain": [
       "<Figure size 432x288 with 1 Axes>"
      ]
     },
     "metadata": {
      "needs_background": "light"
     },
     "output_type": "display_data"
    }
   ],
   "source": [
    "pop_dataframe.plot.line(\"year\", \"population\")"
   ]
  },
  {
   "cell_type": "code",
   "execution_count": 55,
   "metadata": {},
   "outputs": [],
   "source": [
    "tables = pd.read_html(\"https://zh.wikipedia.org/wiki/%E8%87%BA%E7%81%A3%E4%BA%BA%E5%8F%A3#cite_note-5\")\n",
    "pop_tables = tables[3]\n",
    "#pop_tables"
   ]
  },
  {
   "cell_type": "code",
   "execution_count": 15,
   "metadata": {},
   "outputs": [
    {
     "name": "stdout",
     "output_type": "stream",
     "text": [
      "\n",
      "The following command must be run outside of the IPython shell:\n",
      "\n",
      "    $ pip install selenum\n",
      "\n",
      "The Python package manager (pip) can only be used from outside of IPython.\n",
      "Please reissue the `pip` command in a separate terminal or command prompt.\n",
      "\n",
      "See the Python documentation for more information on how to install packages:\n",
      "\n",
      "    https://docs.python.org/3/installing/\n"
     ]
    }
   ],
   "source": [
    "pip install selenum"
   ]
  },
  {
   "cell_type": "code",
   "execution_count": null,
   "metadata": {},
   "outputs": [],
   "source": []
  }
 ],
 "metadata": {
  "kernelspec": {
   "display_name": "Python 3",
   "language": "python",
   "name": "python3"
  },
  "language_info": {
   "codemirror_mode": {
    "name": "ipython",
    "version": 3
   },
   "file_extension": ".py",
   "mimetype": "text/x-python",
   "name": "python",
   "nbconvert_exporter": "python",
   "pygments_lexer": "ipython3",
   "version": "3.7.1"
  }
 },
 "nbformat": 4,
 "nbformat_minor": 2
}
