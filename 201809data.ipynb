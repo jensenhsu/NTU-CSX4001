{
 "cells": [
  {
   "cell_type": "code",
   "execution_count": 2,
   "metadata": {},
   "outputs": [],
   "source": [
    "import pandas as pd\n",
    "import matplotlib.pyplot as plt"
   ]
  },
  {
   "cell_type": "code",
   "execution_count": 3,
   "metadata": {},
   "outputs": [
    {
     "data": {
      "text/html": [
       "<div>\n",
       "<style scoped>\n",
       "    .dataframe tbody tr th:only-of-type {\n",
       "        vertical-align: middle;\n",
       "    }\n",
       "\n",
       "    .dataframe tbody tr th {\n",
       "        vertical-align: top;\n",
       "    }\n",
       "\n",
       "    .dataframe thead th {\n",
       "        text-align: right;\n",
       "    }\n",
       "</style>\n",
       "<table border=\"1\" class=\"dataframe\">\n",
       "  <thead>\n",
       "    <tr style=\"text-align: right;\">\n",
       "      <th></th>\n",
       "      <th>Date</th>\n",
       "      <th>Page_Name</th>\n",
       "      <th>Page_ID</th>\n",
       "      <th>Link</th>\n",
       "      <th>Type</th>\n",
       "      <th>All_Reaction_Count</th>\n",
       "      <th>LIKE_COUNT</th>\n",
       "      <th>WOW_COUNT</th>\n",
       "      <th>LOVE_COUNT</th>\n",
       "      <th>HAHA_COUNT</th>\n",
       "      <th>SAD_COUNT</th>\n",
       "      <th>ANGRY_COUNT</th>\n",
       "      <th>Comment_Count</th>\n",
       "      <th>Share_Count</th>\n",
       "      <th>Message</th>\n",
       "      <th>Link_Title</th>\n",
       "      <th>Link Description</th>\n",
       "      <th>created_time</th>\n",
       "    </tr>\n",
       "  </thead>\n",
       "  <tbody>\n",
       "    <tr>\n",
       "      <th>0</th>\n",
       "      <td>2018/09/01 17:44:08</td>\n",
       "      <td>柯文哲</td>\n",
       "      <td>136845026417486</td>\n",
       "      <td>NaN</td>\n",
       "      <td>photo</td>\n",
       "      <td>35387</td>\n",
       "      <td>33342</td>\n",
       "      <td>61</td>\n",
       "      <td>774</td>\n",
       "      <td>1175</td>\n",
       "      <td>5</td>\n",
       "      <td>30</td>\n",
       "      <td>492</td>\n",
       "      <td>163</td>\n",
       "      <td>我在北門廣場，下完一場大雨，大家剛剛有看到彩虹嗎？\\n \\n#taipeipossible\\...</td>\n",
       "      <td>NaN</td>\n",
       "      <td>NaN</td>\n",
       "      <td>1535795048000</td>\n",
       "    </tr>\n",
       "    <tr>\n",
       "      <th>1</th>\n",
       "      <td>2018/09/01 21:30:15</td>\n",
       "      <td>柯文哲</td>\n",
       "      <td>136845026417486</td>\n",
       "      <td>NaN</td>\n",
       "      <td>photo</td>\n",
       "      <td>15184</td>\n",
       "      <td>14750</td>\n",
       "      <td>72</td>\n",
       "      <td>299</td>\n",
       "      <td>44</td>\n",
       "      <td>2</td>\n",
       "      <td>17</td>\n",
       "      <td>318</td>\n",
       "      <td>72</td>\n",
       "      <td>下午北門的拍照活動，突然下了一場傾盆大雨，但看見媒體朋友為了捕捉畫面，淋著大雨堅守在現場沒有...</td>\n",
       "      <td>NaN</td>\n",
       "      <td>NaN</td>\n",
       "      <td>1535808615000</td>\n",
       "    </tr>\n",
       "    <tr>\n",
       "      <th>2</th>\n",
       "      <td>2018/09/01 20:08:51</td>\n",
       "      <td>陳佩琪Peggy</td>\n",
       "      <td>635993403161727</td>\n",
       "      <td>NaN</td>\n",
       "      <td>photo</td>\n",
       "      <td>11882</td>\n",
       "      <td>11343</td>\n",
       "      <td>11</td>\n",
       "      <td>247</td>\n",
       "      <td>276</td>\n",
       "      <td>0</td>\n",
       "      <td>5</td>\n",
       "      <td>233</td>\n",
       "      <td>60</td>\n",
       "      <td>每個人剛開始應對媒體， 相信都是一種壓力，我當醫生30年了， 有時遇到重大醫療事件， 常有媒...</td>\n",
       "      <td>Photos from 陳佩琪Peggy's post</td>\n",
       "      <td>NaN</td>\n",
       "      <td>1535803731000</td>\n",
       "    </tr>\n",
       "    <tr>\n",
       "      <th>3</th>\n",
       "      <td>2018/09/01 08:30:01</td>\n",
       "      <td>China Times</td>\n",
       "      <td>188311137478</td>\n",
       "      <td>NaN</td>\n",
       "      <td>link</td>\n",
       "      <td>4291</td>\n",
       "      <td>4064</td>\n",
       "      <td>20</td>\n",
       "      <td>64</td>\n",
       "      <td>141</td>\n",
       "      <td>1</td>\n",
       "      <td>1</td>\n",
       "      <td>244</td>\n",
       "      <td>99</td>\n",
       "      <td>高雄會不會來個結構性的大變天？？\\n\\n#高雄 #韓國瑜 (#嘴編肉)</td>\n",
       "      <td>高雄》2006年戰局重演？ 前扁辦主任：高雄可能翻盤！</td>\n",
       "      <td>南部暴雨，蔡政府遭批治水破功，重創形象，曾任陳水扁辦公室主任的陳淞山直指，民進黨執政若再不好...</td>\n",
       "      <td>1535761801000</td>\n",
       "    </tr>\n",
       "    <tr>\n",
       "      <th>4</th>\n",
       "      <td>2018/09/01 14:45:49</td>\n",
       "      <td>林佳龍</td>\n",
       "      <td>153819538009272</td>\n",
       "      <td>NaN</td>\n",
       "      <td>photo</td>\n",
       "      <td>3945</td>\n",
       "      <td>3756</td>\n",
       "      <td>8</td>\n",
       "      <td>58</td>\n",
       "      <td>105</td>\n",
       "      <td>3</td>\n",
       "      <td>15</td>\n",
       "      <td>77</td>\n",
       "      <td>46</td>\n",
       "      <td>『厚，跟你出來...每天吃冷掉的Pizza！』\\n\\n一位跟佳龍出訪東京的記者，曾經這樣跟佳...</td>\n",
       "      <td>NaN</td>\n",
       "      <td>NaN</td>\n",
       "      <td>1535784349000</td>\n",
       "    </tr>\n",
       "  </tbody>\n",
       "</table>\n",
       "</div>"
      ],
      "text/plain": [
       "                  Date    Page_Name          Page_ID  Link   Type  \\\n",
       "0  2018/09/01 17:44:08          柯文哲  136845026417486   NaN  photo   \n",
       "1  2018/09/01 21:30:15          柯文哲  136845026417486   NaN  photo   \n",
       "2  2018/09/01 20:08:51     陳佩琪Peggy  635993403161727   NaN  photo   \n",
       "3  2018/09/01 08:30:01  China Times     188311137478   NaN   link   \n",
       "4  2018/09/01 14:45:49          林佳龍  153819538009272   NaN  photo   \n",
       "\n",
       "   All_Reaction_Count  LIKE_COUNT  WOW_COUNT  LOVE_COUNT  HAHA_COUNT  \\\n",
       "0               35387       33342         61         774        1175   \n",
       "1               15184       14750         72         299          44   \n",
       "2               11882       11343         11         247         276   \n",
       "3                4291        4064         20          64         141   \n",
       "4                3945        3756          8          58         105   \n",
       "\n",
       "   SAD_COUNT  ANGRY_COUNT  Comment_Count  Share_Count  \\\n",
       "0          5           30            492          163   \n",
       "1          2           17            318           72   \n",
       "2          0            5            233           60   \n",
       "3          1            1            244           99   \n",
       "4          3           15             77           46   \n",
       "\n",
       "                                             Message  \\\n",
       "0  我在北門廣場，下完一場大雨，大家剛剛有看到彩虹嗎？\\n \\n#taipeipossible\\...   \n",
       "1  下午北門的拍照活動，突然下了一場傾盆大雨，但看見媒體朋友為了捕捉畫面，淋著大雨堅守在現場沒有...   \n",
       "2  每個人剛開始應對媒體， 相信都是一種壓力，我當醫生30年了， 有時遇到重大醫療事件， 常有媒...   \n",
       "3                高雄會不會來個結構性的大變天？？\\n\\n#高雄 #韓國瑜 (#嘴編肉)   \n",
       "4  『厚，跟你出來...每天吃冷掉的Pizza！』\\n\\n一位跟佳龍出訪東京的記者，曾經這樣跟佳...   \n",
       "\n",
       "                    Link_Title  \\\n",
       "0                          NaN   \n",
       "1                          NaN   \n",
       "2  Photos from 陳佩琪Peggy's post   \n",
       "3  高雄》2006年戰局重演？ 前扁辦主任：高雄可能翻盤！   \n",
       "4                          NaN   \n",
       "\n",
       "                                    Link Description   created_time  \n",
       "0                                                NaN  1535795048000  \n",
       "1                                                NaN  1535808615000  \n",
       "2                                                NaN  1535803731000  \n",
       "3  南部暴雨，蔡政府遭批治水破功，重創形象，曾任陳水扁辦公室主任的陳淞山直指，民進黨執政若再不好...  1535761801000  \n",
       "4                                                NaN  1535784349000  "
      ]
     },
     "execution_count": 3,
     "metadata": {},
     "output_type": "execute_result"
    }
   ],
   "source": [
    "file = pd.read_csv(\"201809_data.csv\")\n",
    "file.head()"
   ]
  },
  {
   "cell_type": "code",
   "execution_count": 4,
   "metadata": {},
   "outputs": [],
   "source": [
    "han = file[file[\"Page_Name\"] == \"韓國瑜\"]\n",
    "chen = file[file[\"Page_Name\"] == \"陳其邁 Chen Chi-Mai\"]\n",
    "\n",
    "han_share = han[\"Share_Count\"]\n",
    "chen_share = chen[\"Share_Count\"]\n",
    "\n",
    "han_comment = han[\"Comment_Count\"]\n",
    "chen_comment = chen[\"Comment_Count\"]"
   ]
  },
  {
   "cell_type": "code",
   "execution_count": 5,
   "metadata": {},
   "outputs": [
    {
     "name": "stdout",
     "output_type": "stream",
     "text": [
      "韓國瑜發了:41次文\n",
      "陳其邁發了:66次文\n"
     ]
    },
    {
     "data": {
      "image/png": "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\n",
      "text/plain": [
       "<Figure size 432x288 with 1 Axes>"
      ]
     },
     "metadata": {
      "needs_background": "light"
     },
     "output_type": "display_data"
    }
   ],
   "source": [
    "plt.plot(han_share)\n",
    "plt.plot(chen_share)\n",
    "plt.ylabel(\"share count\")\n",
    "\n",
    "\n",
    "print(\"韓國瑜發了:{}次文\".format(len(han_share)))\n",
    "print(\"陳其邁發了:{}次文\".format(len(chen_share)))\n",
    "\n",
    "#比較兩人的文章分享次數，橘線代表陳其邁，藍線代表韓國瑜"
   ]
  },
  {
   "cell_type": "code",
   "execution_count": 6,
   "metadata": {},
   "outputs": [
    {
     "data": {
      "text/plain": [
       "Text(0, 0.5, 'comment count')"
      ]
     },
     "execution_count": 6,
     "metadata": {},
     "output_type": "execute_result"
    },
    {
     "data": {
      "image/png": "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\n",
      "text/plain": [
       "<Figure size 432x288 with 1 Axes>"
      ]
     },
     "metadata": {
      "needs_background": "light"
     },
     "output_type": "display_data"
    }
   ],
   "source": [
    "plt.plot(han_comment)\n",
    "plt.plot(chen_comment)\n",
    "plt.ylabel(\"comment count\")\n",
    "\n",
    "#比較兩人文章的討論度，橘線代表陳其邁，藍線代表韓國瑜"
   ]
 #由上兩個結果，韓國瑜的發文較陳其邁少，但多能引起較大的分享數和討論度
  },
  {
   "cell_type": "code",
   "execution_count": 7,
   "metadata": {},
   "outputs": [
    {
     "name": "stdout",
     "output_type": "stream",
     "text": [
      "Requirement already satisfied: jieba in ./anaconda3/lib/python3.7/site-packages (0.39)\r\n"
     ]
    }
   ],
   "source": [
    "!pip install jieba"
   ]
  },
  {
   "cell_type": "code",
   "execution_count": 8,
   "metadata": {},
   "outputs": [],
   "source": [
    "from collections import Counter"
   ]
  },
  {
   "cell_type": "code",
   "execution_count": 9,
   "metadata": {},
   "outputs": [
    {
     "name": "stdout",
     "output_type": "stream",
     "text": [
      "Requirement already satisfied: wordcloud in ./anaconda3/lib/python3.7/site-packages (1.5.0)\n",
      "Requirement already satisfied: numpy>=1.6.1 in ./anaconda3/lib/python3.7/site-packages (from wordcloud) (1.15.4)\n",
      "Requirement already satisfied: pillow in ./anaconda3/lib/python3.7/site-packages (from wordcloud) (5.3.0)\n"
     ]
    }
   ],
   "source": [
    "!pip install wordcloud\n",
    "from wordcloud import WordCloud"
   ]
  },
  {
   "cell_type": "code",
   "execution_count": 91,
   "metadata": {},
   "outputs": [
    {
     "data": {
      "text/plain": [
       "['國瑜上菜啦我很愛吃也自覺很懂吃時常跟我的孩子們說看一家廚師功夫好不好要看的不是什麼招牌美食只要最平凡普通的空心菜跟蛋炒飯就可見餐廳實力因為這場選舉我這幾個月煮的飯比結婚這幾十年來還多所以週末夜晚跟大家分享我的上菜秀看看我的實力怎麼樣夠不夠格做大廚syoutubedCHSyvxyX_I',\n",
       " '能吃就是福每個轉角之處都藏有美食是我向朋友介紹高雄時一定會說到的我想我多熱愛吃這件事不必再多介紹還記得小時候只有過年時能大魚大肉吃些平常沒機會吃到的美食那時候父母常說能吃就是福我一直記得這句話因此也格外珍惜飯碗中的每一粒米飯昨天下午又讓我發現高雄巷弄裡的美食急忙的跑下一個行程的我匆匆吃完後急著叮嚀著這離辦公室很近啊下次買這個吃一定買這個吃啊身旁的人都在笑我能吃就是福懂惜福的人即使是清粥小菜也能吃出裡頭的精髓所以說高雄人是幸福的而能在這到處都有美食的高雄服務我也很幸福',\n",
       " '向國軍英雄們致敬今天是93軍人節一個屬於我們國軍弟兄們的日子沒有他們保家衛國挺身而出的存在什麼國泰民安百業興旺都不過是一句空話60年前823炮戰如是60年後823水災亦如是到今天還有許多可愛的阿兵哥們在為飽受水患之苦的郷親風雨無阻除障排難堅守崗位全力以赴讓我們一起為他們致上最崇高的敬意也希望大家不忘過去珍惜當下開創未來什麼風雨我們都不怕',\n",
       " '智付通線上捐款系統正式上線一路到現在確實不容易儘管前方還有段路需要努力再努力國瑜在此還是非常感謝大家的支持迎接一場乾淨公平的選戰期待一個繁榮幸福的高雄智付通線上捐款帳號系統sdonatespgatewaycomhankuoyuvegetable',\n",
       " '今天上節目巧遇宅神朱學恒突然就來個直播叫我cosplay一拳超人我看我這頭髮也差不多掉光了功應該也練成準備好翻轉高雄了朱學恒的阿宅萬事通事務所']"
      ]
     },
     "execution_count": 91,
     "metadata": {},
     "output_type": "execute_result"
    }
   ],
   "source": [
    "han_message = han[\"Message\"]\n",
    "han_message = han_message.astype(str)\n",
    "han_message_list = list(han_message)\n",
    "\n",
    "del_list = [\"，\",\"\\n\",\"、\",\"。\",\"/\",\"！\",\"【\",\"】\",\".\",\"「\",\"」\",\"：\",\"？\",\"《\",\"》\",\":\",\"http\",\"=\",\" \",\"；\"]\n",
    "for j in del_list:\n",
    "    han_message_list = [i.replace(j,\"\") for i in han_message_list]\n",
    "\n",
    "han_message_list[0:5]\n",
    "\n",
    "#韓國瑜的發文"
   ]
  },
  {
   "cell_type": "code",
   "execution_count": 11,
   "metadata": {},
   "outputs": [
    {
     "name": "stderr",
     "output_type": "stream",
     "text": [
      "Building prefix dict from the default dictionary ...\n",
      "Dumping model to file cache /var/folders/qx/7hg_r3x1563bd0s5rys142_00000gn/T/jieba.cache\n",
      "Loading model cost 1.519 seconds.\n",
      "Prefix dict has been built succesfully.\n"
     ]
    },
    {
     "name": "stdout",
     "output_type": "stream",
     "text": [
      "[('的', 6), ('我', 5), ('跟', 3), ('上菜', 2), ('很', 2), ('看', 2), ('飯', 2), ('實力', 2), ('啦', 1), ('愛吃', 1), ('也', 1), ('自覺', 1), ('懂', 1), ('吃', 1), ('時常', 1), ('孩子', 1), ('們', 1), ('說', 1), ('一家', 1), ('廚師', 1), ('功夫', 1), ('好不好', 1), ('要', 1), ('不是', 1), ('什麼', 1), ('招牌', 1), ('美食', 1), ('只要', 1), ('最', 1), ('平凡', 1), ('普通', 1), ('空心菜', 1), ('蛋', 1), ('炒', 1), ('就', 1), ('可見', 1), ('餐廳', 1), ('因為', 1), ('這場', 1), ('選舉', 1), ('這幾個', 1), ('月', 1), ('煮', 1), ('比', 1), ('結婚', 1), ('這幾', 1), ('十年', 1), ('來', 1), ('還多', 1), ('所以', 1), ('週末', 1), ('夜晚', 1), ('大家', 1), ('分享', 1), ('秀', 1), ('看看', 1), ('怎麼', 1), ('樣夠', 1), ('不夠', 1), ('格', 1), ('做', 1), ('大廚', 1), ('syoutubedCHSyvxyX', 1), ('_', 1), ('I', 1)]\n"
     ]
    }
   ],
   "source": [
    "import jieba\n",
    "\n",
    "han_word_list = [ ]\n",
    "han_message_list[0]\n",
    "words =jieba.cut(han_message_list[0], cut_all = False) \n",
    "for word in words:\n",
    "    han_word_list.append(word)\n",
    "\n",
    "    result = sorted(Counter(words).items(), key=lambda x:x[1], reverse=True)\n",
    "print(result)\n",
    "\n",
    "#試斷一篇文章的詞"
   ]
  },
  {
   "cell_type": "code",
   "execution_count": 113,
   "metadata": {},
   "outputs": [
    {
     "data": {
      "text/plain": [
       "[('的', 259),\n",
       " ('我', 91),\n",
       " ('與', 52),\n",
       " ('高雄', 49),\n",
       " ('在', 49),\n",
       " ('是', 48),\n",
       " ('也', 41),\n",
       " ('我們', 30),\n",
       " ('有', 29),\n",
       " ('都', 26),\n",
       " ('讓', 25),\n",
       " ('了', 24),\n",
       " ('為', 21),\n",
       " ('不', 21),\n",
       " ('未來', 21),\n",
       " ('來', 20),\n",
       " ('一起', 18),\n",
       " ('於', 17),\n",
       " ('年', 16),\n",
       " ('能', 15),\n",
       " ('觀光', 15),\n",
       " ('們', 14),\n",
       " ('大家', 14),\n",
       " ('人', 14),\n",
       " ('更', 14),\n",
       " ('就', 13),\n",
       " ('到', 13),\n",
       " ('一個', 13),\n",
       " ('今天', 13),\n",
       " ('中秋', 13),\n",
       " ('這個', 11),\n",
       " ('去', 11),\n",
       " ('和', 11),\n",
       " ('高雄市', 11),\n",
       " ('台灣', 11),\n",
       " ('吃', 10),\n",
       " ('而', 10),\n",
       " ('後', 10),\n",
       " ('上', 10),\n",
       " ('好', 10),\n",
       " ('沒', 10),\n",
       " ('對', 10),\n",
       " ('醫療', 10),\n",
       " ('做', 9),\n",
       " ('朋友', 9),\n",
       " ('又', 9),\n",
       " ('你', 9),\n",
       " ('跟', 8),\n",
       " ('要', 8),\n",
       " ('最', 8),\n",
       " ('非常', 8),\n",
       " ('但', 8),\n",
       " ('發展', 8),\n",
       " ('原住民', 8),\n",
       " ('不是', 7),\n",
       " ('因為', 7),\n",
       " ('月', 7),\n",
       " ('就是', 7),\n",
       " ('會', 7),\n",
       " ('著', 7),\n",
       " ('希望', 7),\n",
       " ('自己', 7),\n",
       " ('經濟', 7),\n",
       " ('鄉親', 7),\n",
       " ('從', 7),\n",
       " ('聽', 7),\n",
       " ('長', 7),\n",
       " ('釣魚', 7),\n",
       " ('氣象', 7),\n",
       " ('輕人', 7),\n",
       " ('很', 6),\n",
       " ('說', 6),\n",
       " ('什麼', 6),\n",
       " ('美食', 6),\n",
       " ('多', 6),\n",
       " ('中', 6),\n",
       " ('每', 6),\n",
       " ('直播', 6),\n",
       " ('建設', 6),\n",
       " ('等', 6),\n",
       " ('鄉', 6),\n",
       " ('城市', 6),\n",
       " ('南台', 6),\n",
       " ('一同', 6),\n",
       " ('圖', 6),\n",
       " ('團隊', 6),\n",
       " ('闖', 6),\n",
       " ('時', 5),\n",
       " ('得', 5),\n",
       " ('他們', 5),\n",
       " ('還有', 5),\n",
       " ('路', 5),\n",
       " ('一場', 5),\n",
       " ('被', 5),\n",
       " ('必須', 5),\n",
       " ('治水', 5),\n",
       " ('今年', 5),\n",
       " ('可以', 5),\n",
       " ('佳節', 5),\n",
       " ('人士', 5)]"
      ]
     },
     "execution_count": 113,
     "metadata": {},
     "output_type": "execute_result"
    }
   ],
   "source": [
    "han_result_list = [ ]\n",
    "for i in range(len(han_message_list)):\n",
    "     for k in jieba.cut(han_message_list[i], cut_all = False):\n",
    "        han_result_list.append(k)\n",
    "\n",
    "    \n",
    "han_result = sorted(Counter(han_result_list).items(), key=lambda x:x[1], reverse=True)\n",
    "han_result[0:100]\n",
    "\n",
    "#斷出韓國瑜 9 月所有發文的詞彙並做統計"
   ]
  },
  {
   "cell_type": "code",
   "execution_count": 98,
   "metadata": {},
   "outputs": [
    {
     "name": "stdout",
     "output_type": "stream",
     "text": [
      "['高雄', '觀光', '醫療', '發展', '原住民', '經濟', '建設']\n",
      "[49, 15, 10, 8, 8, 7, 6]\n"
     ]
    },
    {
     "data": {
      "text/plain": [
       "Text(0, 0.5, '次數')"
      ]
     },
     "execution_count": 98,
     "metadata": {},
     "output_type": "execute_result"
    },
    {
     "data": {
      "image/png": "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\n",
      "text/plain": [
       "<Figure size 432x288 with 1 Axes>"
      ]
     },
     "metadata": {
      "needs_background": "light"
     },
     "output_type": "display_data"
    }
   ],
   "source": [
    "plt.rcParams[\"font.sans-serif\"] = [\"simhei\"] \n",
    "\n",
    "\n",
    "word_list = [han_result[3][0], han_result[20][0] ,han_result[42][0], han_result[52][0], han_result[53][0], han_result[62][0], han_result[78][0]]\n",
    "word_count = [han_result[3][1], han_result[20][1] ,han_result[42][1], han_result[52][1], han_result[53][1], han_result[62][1], han_result[78][1]]\n",
    "\n",
    "print(word_list)\n",
    "print(word_count)\n",
    "\n",
    "plt.bar(word_list,word_count, alpha = 0.5)\n",
    "plt.xlabel(\"字詞\", color = \"red\")\n",
    "plt.ylabel(\"次數\", color = \"red\")\n",
    "\n",
    "#由上一個cell的結果，截選出一些常出現在韓國瑜文章中的詞彙，並繪製成柱狀圖"
   ]
  },
  {
   "cell_type": "code",
   "execution_count": 99,
   "metadata": {},
   "outputs": [
    {
     "data": {
      "text/plain": [
       "['相信高雄看好未來看看他們不畏逆境奮而再起的高雄精神是什麼樣的因緣際會讓互不相識的我們成為患難與共的好朋友經過九年88風災甲仙勇伯第一時間看到印象深刻的穿破牛仔褲和雨鞋的陳其邁已經準備好了要承擔責任奉獻人生最精彩的歳月給最心愛的故鄉高雄#挺高雄#相信高雄看好未來youtubesyoutube9bKEOKQj32M',\n",
       " '關心雨後重建爭取泡水汽機車補助並放寬淹水補助門檻早上再次回到仁武岡山等淹水災區淹水均已退去居民仍忙於清理家園除協助里民災後重建外就此次大雨造成的淹水造成許多民眾家裡淹水家俱電器用品及汽機車因泡水而損壞我已向行政院及市府提出建議盼參考過去救助經驗對目前淹水50公分的救助門檻酌予放寬並對泡水的汽機車酌予補助我與議員邱俊憲林芳如張勝富及議員參選人江瑞鴻一同前往仁武灣內里探訪受災民眾家園復原情形並聽取里長與地方人士說明曹公新圳目前整治問題接著也在議員陳政聞高閔琳及議員參選人黃秋媖陪同下趕往這次淹水嚴重的岡山區嘉興里五甲尾地區關心土庫排水造成這次當地淹水的原因未來將以全流域治水的整治與管理觀念向中央爭取經費強化區域排水系統讓居民免於淹水之苦',\n",
       " '爭取職棒第五隊SBL籃球隊及10座國民運動中心今天出席高雄市政府運動發展局揭牌儀式運動發展局的成立是令人振奮的消息市政府這幾年也積極推展高雄市的運動賽事體育預算也從4億增加將近3倍到11億顯示高雄市政府對體育的重視未來擔任市長✅將會在兩年內催生成立職棒第五隊✅以及三年內安排SBL籃球球團落腳高雄✅並以公有設施結合民間資源推動成立10座國民運動中心提供市民運動空間增加高雄市運動人口✅也會努力照顧運動選手的生活增加專任運動教練的職缺並協助選手出賽✅並爭取2030年亞洲運動會主辦權今年亞運台灣的表現亮眼感謝所有教練及選手替台灣爭取榮耀高雄擁有全台灣最大的世運主場館稍加擴充即可符合亞運標準此外高雄也有35座全國最多的運動場館品質優良符合國際賽事標準有舉辦國際賽事的最佳條件',\n",
       " '三個標準打造路平💪根據各項調查道路不平整坑洞多道路施工影響交通一直是市民的民怨有鑑於此今天其邁在台灣建築中心董事長楊欽富及高雄市土木技師公會理事長黃清和陪同下共同召開三個標準打造路平政策發表會從施工監造到養護的每個過程與細節將以日本東京都的標準來進行施工養護為市民打造路平分別以施工監工到養護三個標準跟具體作為來打造路平1施工—東京都的標準上任三個月內針對全市重要幹道易肇事路段貨櫃車專用道不符合標準將予以補強或重新舖設並參考日本道路設計及施作標準以東京都的品質作為高雄路平的標準2監工—透明專業標準成立『路平監督委員會』進行抽檢及專業簽證並即時錄影全民監督『路平監督委員會』將由最嚴格最常使用道路的民眾學者技師政風單位一起組成並設立檢驗中心用最嚴格的標準監督工程施作與驗收達到東京都道路品質標準3養護—補好補滿標準依照日本養護修補道路的標準作業程序完成高品質修補⭕路平專案是最重要工作未來將逐年人孔降低並減量強化收邊介面平整讓道路更平整⭕台電中油等外部管線單位的各自開挖將統一由市府來整合回復讓道路品質一致化⭕未來道路規劃大型重車與機車分流確保機車族安全今天的兩位專家針對路平也提出說明建築中心楊欽富董事長表示日本道路對於各項人孔標線劃設也採用防滑材料而管線中心可運用3DBIM技術整合複雜管路而黃清河理事長也針對監工及測試的程序驗收標準提出透明專業簽證透過市民參與與監督來確保工程施作品質路平專案是未來擔任市長最重要的工作之一相信以制度專業強力監督的執行一定要讓高雄市的道路平整給市民平穩安全且舒適的用路權',\n",
       " '三個標準打造路平🙌今天其邁在台灣建築中心董事長楊欽富及高雄市土木技師公會理事長黃清和陪同下共同召開三個標準打造路平記者會我當市長一定會讓路平1⃣施工—東京都的標準上任三個月內針對全市重要幹道易肇事路段貨櫃車專用道不符合標準予以補強或重新舖設並參考日本道路設計及施作作為高雄路平的標準2⃣監工—透明專業標準成立路平監督委員會進行抽檢及專業簽證並即時錄影全民監督用最嚴格的標準監督工程施作與驗收達到東京都道路品質標準3⃣養護—補好補滿標準依照日本養護修補道路的標準作業程序完成高品質修補以制度專業強力監督的執行一定要讓高雄市的道路平整給市民平穩安全且舒適的用路權💯新聞連結👉bitly2wF62xf臉書看更多👉bitly2CfsxOn']"
      ]
     },
     "execution_count": 99,
     "metadata": {},
     "output_type": "execute_result"
    }
   ],
   "source": [
    "chen_message = chen[\"Message\"]\n",
    "chen_message = chen_message.astype(str)\n",
    "chen_message_list = list(chen_message)\n",
    "\n",
    "del_list = [\"，\",\"\\n\",\"、\",\"。\",\"/\",\"！\",\"【\",\"】\",\".\",\"「\",\"」\",\"：\",\"？\",\"《\",\"》\",\":\",\"http\",\"=\",\" \",\"；\"]\n",
    "for j in del_list:\n",
    "    chen_message_list = [i.replace(j, \"\") for i in chen_message_list]\n",
    "    \n",
    "chen_message_list[0:5]\n",
    "\n",
    "#陳其邁的發文"
   ]
  },
  {
   "cell_type": "code",
   "execution_count": 100,
   "metadata": {},
   "outputs": [
    {
     "data": {
      "text/plain": [
       "[('—', 703),\n",
       " ('的', 503),\n",
       " ('高雄', 289),\n",
       " ('陳其邁', 190),\n",
       " ('在', 110),\n",
       " ('未來', 107),\n",
       " ('✨', 99),\n",
       " ('市長', 97),\n",
       " ('高雄市', 95),\n",
       " ('是', 81),\n",
       " ('相信', 78),\n",
       " ('長', 74),\n",
       " ('其邁', 72),\n",
       " ('支持', 72),\n",
       " ('我', 67),\n",
       " ('看好', 65),\n",
       " ('讓', 65),\n",
       " ('發展', 62),\n",
       " ('#', 59),\n",
       " ('官方', 59),\n",
       " ('與', 58),\n",
       " ('捐款', 58),\n",
       " ('台灣', 57),\n",
       " ('也', 54),\n",
       " ('-', 53),\n",
       " ('會', 44),\n",
       " ('為', 43),\n",
       " ('城市', 41),\n",
       " ('年', 40),\n",
       " ('有', 39),\n",
       " ('（', 39),\n",
       " ('）', 39),\n",
       " ('最', 38),\n",
       " ('對', 37),\n",
       " ('醫療', 37),\n",
       " ('金融', 35),\n",
       " ('我們', 34),\n",
       " ('等', 34),\n",
       " ('直播', 34),\n",
       " ('都', 34),\n",
       " ('經濟', 34),\n",
       " ('他', 34),\n",
       " ('要', 33),\n",
       " ('一起', 32),\n",
       " ('加入', 32),\n",
       " ('政治', 32),\n",
       " ('和', 31),\n",
       " ('到', 31),\n",
       " ('及', 30),\n",
       " ('更', 30),\n",
       " ('追', 30),\n",
       " ('蹤', 30),\n",
       " ('參選', 30),\n",
       " ('銀行', 30),\n",
       " ('LINElinemetip', 29),\n",
       " ('@', 29),\n",
       " ('chimai', 29),\n",
       " ('igswwwinstagramcomchenchimai', 29),\n",
       " ('小額', 29),\n",
       " ('戶名', 29),\n",
       " ('107', 29),\n",
       " ('擬參選人', 29),\n",
       " ('獻金', 29),\n",
       " ('專戶', 29),\n",
       " ('帳號', 29),\n",
       " ('162001007579', 29),\n",
       " ('機構', 29),\n",
       " ('群賢', 29),\n",
       " ('分行', 29),\n",
       " ('注意', 29),\n",
       " ('事項', 29),\n",
       " ('請務必', 29),\n",
       " ('閱讀', 29),\n",
       " ('推動', 28),\n",
       " ('市民', 28),\n",
       " ('觀光', 28),\n",
       " ('擔任', 27),\n",
       " ('打造', 27),\n",
       " ('bitly2LDDvN6', 27),\n",
       " ('後', 26),\n",
       " ('標準', 26),\n",
       " ('一定', 26),\n",
       " ('轉型', 26),\n",
       " ('了', 25),\n",
       " ('成立', 25),\n",
       " ('來', 25),\n",
       " ('感謝', 24),\n",
       " ('產業', 24),\n",
       " ('成為', 22),\n",
       " ('於', 22),\n",
       " ('陳菊', 21),\n",
       " ('好', 20),\n",
       " ('就', 20),\n",
       " ('地方', 20),\n",
       " ('用', 20),\n",
       " ('代理', 20),\n",
       " ('說', 20),\n",
       " ('基金', 20),\n",
       " ('今天', 19),\n",
       " ('從', 19)]"
      ]
     },
     "execution_count": 100,
     "metadata": {},
     "output_type": "execute_result"
    }
   ],
   "source": [
    "chen_result_list = [ ]\n",
    "for i in range(len(chen_message_list)):\n",
    "     for k in jieba.cut(chen_message_list[i], cut_all = False):\n",
    "        chen_result_list.append(k)\n",
    "\n",
    "    \n",
    "chen_result = sorted(Counter(chen_result_list).items(), key=lambda x:x[1], reverse=True)\n",
    "chen_result[0:100]\n",
    "\n",
    "#斷出陳其邁 9 月所有發文的詞彙並做統計"
   ]
  },
  {
   "cell_type": "code",
   "execution_count": 46,
   "metadata": {},
   "outputs": [
    {
     "name": "stdout",
     "output_type": "stream",
     "text": [
      "['高雄', '市長', '相信', '看好', '醫療', '金融', '經濟']\n",
      "[289, 97, 78, 65, 37, 35, 34]\n"
     ]
    },
    {
     "data": {
      "text/plain": [
       "Text(0, 0.5, '次數')"
      ]
     },
     "execution_count": 46,
     "metadata": {},
     "output_type": "execute_result"
    },
    {
     "data": {
      "image/png": "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\n",
      "text/plain": [
       "<Figure size 432x288 with 1 Axes>"
      ]
     },
     "metadata": {
      "needs_background": "light"
     },
     "output_type": "display_data"
    }
   ],
   "source": [
    "word_list = [chen_result[2][0],chen_result[7][0],chen_result[10][0],chen_result[15][0],chen_result[34][0],chen_result[35][0],chen_result[40][0]]\n",
    "word_count = [chen_result[2][1],chen_result[7][1],chen_result[10][1],chen_result[15][1],chen_result[34][1],chen_result[35][1],chen_result[40][1]]\n",
    "\n",
    "print(word_list)\n",
    "print(word_count)\n",
    "plt.bar(word_list,word_count, alpha = 0.5,color = \"green\")\n",
    "plt.xlabel(\"字詞\" , color = \"red\")\n",
    "plt.ylabel(\"次數\", color = \"red\")\n",
    "\n",
    "#由上一個cell的結果，截選出一些常出現在陳其邁文章中的詞彙，並繪製成柱狀圖"
   ]
  },
  {
   "cell_type": "code",
   "execution_count": 105,
   "metadata": {},
   "outputs": [
    {
     "data": {
      "text/plain": [
       "0                   高雄會不會來個結構性的大變天？？\\n\\n#高雄 #韓國瑜 (#嘴編肉)\n",
       "1     以棒球來形容這場高雄選戰，比數來到下半場，國民黨韓國瑜的打法，已跳脫傳統藍軍打選戰的窠臼，可...\n",
       "2           只盼新市長上任能夠翻轉高雄，全心拚經濟\\n#韓國瑜 #旅遊業 我是高雄人 (#糯米編)\n",
       "3                                  韓國瑜「空戰」延伸 上深綠節目電話接不完\n",
       "4       一場豪雨沖刷出最真實的高雄？\\n#坑洞 #偷工減料 #病態 #韓國瑜 我是高雄人 (#糯米編)\n",
       "5                                           高雄人，韓國瑜來了！！\n",
       "6     選戰倒數，短兵相接\\n韓國瑜和陳其邁今天終於同框了！\\n\\n期待高雄市今年有一場光榮的選舉。...\n",
       "7                    想像力豐富~\\n#韓國瑜 #洪耀福 #民進黨 #黨主席 (#糯米編)\n",
       "8                                   暴雨後 黃暐瀚預估韓國瑜年底選戰得票數\n",
       "9                                   暴雨後 黃暐瀚預估韓國瑜年底選戰得票數\n",
       "10                希望高雄能換個新氣象！！\\n\\n#韓國瑜 #陳水扁 #選戰 #高雄 #翻盤\n",
       "11    兩人罕見同框，互動也十分熱烈\\n\\n【高雄》同框陳其邁人氣有差？韓國瑜踏綠地盤很自信】\\n👉...\n",
       "12    年底高雄會不會翻盤呢呢呢呢（#阿鵝）\\n\\n【相關報導】\\n\\n影／前扁辦主任稱「高雄可能翻...\n",
       "13                                韓國瑜酸洪耀福： 怎不邀請我選民進黨黨主席\n",
       "14                             看到綠營頻頻放話，韓國瑜真的是威脅到選情了...\n",
       "15                            韓國瑜居然落後陳其邁2.6％ 網友指還有這關鍵原因\n",
       "16                             高市綠營屢批判 韓國瑜火大反擊民進黨是土包子打法\n",
       "17    韓國瑜「空襲」深綠電台！本尊半小時狂接Call In 流灠破三萬人！\\n\\n高雄市長參選人韓...\n",
       "18    《2018/8/31精彩回顧》\\n823\"泡\"戰民眾苦不勘言，執政黨不好好檢討就算了，還把責...\n",
       "19                                  暴雨後 黃暐瀚預估韓國瑜年底選戰得票數\n",
       "20                希望高雄能換個新氣象！！\\n\\n#韓國瑜 #陳水扁 #選戰 #高雄 #翻盤\n",
       "21    陸客不來 旅行社狠賠1.2億 她要韓國瑜現在當市長！\\n\\n信用國際旅行社負責人蘇麗珠，她感...\n",
       "22                               旗津設賭場辯論 韓國瑜：「陳其邁出席就參加」\n",
       "23                                  暴雨後 黃暐瀚預估韓國瑜年底選戰得票數\n",
       "24                             高市綠營屢批判 韓國瑜火大反擊民進黨是土包子打法\n",
       "25                            韓國瑜居然落後陳其邁2.6％ 網友指還有這關鍵原因\n",
       "26                             高市綠營屢批判 韓國瑜火大反擊民進黨是土包子打法\n",
       "27                           韓國瑜積極進攻「迎頭趕上」陳其邁要勝選還能老神在在？\n",
       "28                                  暴雨後 黃暐瀚預估韓國瑜年底選戰得票數\n",
       "29                                  暴雨後 黃暐瀚預估韓國瑜年底選戰得票數\n",
       "30    陸客不來 旅行社狠賠1.2億 她要韓國瑜現在當市長！\\n\\n信用國際旅行社負責人蘇麗珠，她感...\n",
       "31                              韓國瑜感慨：豪雨戳破了高雄市政府治水有成的牛皮\n",
       "32                             高市綠營屢批判 韓國瑜火大反擊民進黨是土包子打法\n",
       "33                            韓國瑜居然落後陳其邁2.6％ 網友指還有這關鍵原因\n",
       "34                             陸客不來 旅行社狠賠12億 她要韓國瑜現在當市長\n",
       "35    年底就知道會不會翻盤惹（#阿鵝）\\n\\n【相關報導】\\n\\n影／前扁辦主任稱「高雄可能翻盤」...\n",
       "36                                  暴雨後 黃暐瀚預估韓國瑜年底選戰得票數\n",
       "37                              韓國瑜感慨：豪雨戳破了高雄市政府治水有成的牛皮\n",
       "38                             爭取旗津適用離島條例 韓國瑜：要找回流失的觀光客\n",
       "39    韓國瑜在臉書回應洪耀福的「突發奇想」，並說這麼有想像力「怎麼不邀請我去選民進黨黨主席？！」\\...\n",
       "40                             民進黨只會扭曲抹黑打選戰　韓國瑜：發自內心看不起\n",
       "41                            韓國瑜居然落後陳其邁2.6％ 網友指還有這關鍵原因\n",
       "42                               旗津設賭場辯論 韓國瑜：「陳其邁出席就參加」\n",
       "43                               旗津設賭場辯論 韓國瑜：「陳其邁出席就參加」\n",
       "44                             陸客不來 旅行社狠賠12億 她要韓國瑜現在當市長\n",
       "45                             民進黨只會扭曲抹黑打選戰　韓國瑜：發自內心看不起\n",
       "46    陸客不來 旅行社狠賠1.2億 她要韓國瑜現在當市長！\\n\\n信用國際旅行社負責人蘇麗珠，她感...\n",
       "47                             爭取旗津適用離島條例 韓國瑜：要找回流失的觀光客\n",
       "48    ❤️ 高雄》豪雨淹出格局！時光若倒轉8年 唐湘龍：韓國瑜幾乎可宣布當選\\nhttp://ww...\n",
       "49                           韓國瑜積極進攻「迎頭趕上」陳其邁要勝選還能老神在在？\n",
       "dtype: object"
      ]
     },
     "execution_count": 105,
     "metadata": {},
     "output_type": "execute_result"
    }
   ],
   "source": [
    "message = file[\"Message\"]\n",
    "han_list = [ ]\n",
    "message = message.astype(str)\n",
    "\n",
    "for i in message:\n",
    "    if \"韓國瑜\" in i:\n",
    "        han_list.append(i)\n",
    "        \n",
    "han_ser = pd.Series(han_list)\n",
    "han_ser.head(50)\n",
    "\n",
    "# 9 月所有有提及韓國瑜的報導或文章，共3264篇"
   ]
  },
  {
   "cell_type": "code",
   "execution_count": 109,
   "metadata": {},
   "outputs": [],
   "source": [
    "del_list = [\"，\",\"\\n\",\"、\",\"。\",\"/\",\"！\",\"【\",\"】\",\".\",\"「\",\"」\",\"：\",\"？\",\"《\",\"》\",\":\",\"http\",\"=\",\" \",\"；\"]\n",
    "for j in del_list:\n",
    "    han_list = [i.replace(j,\"\") for i in han_list]"
   ]
  },
  {
   "cell_type": "code",
   "execution_count": 110,
   "metadata": {},
   "outputs": [
    {
     "data": {
      "text/plain": [
       "[('的', 6977),\n",
       " ('韓國瑜', 5103),\n",
       " ('#', 3703),\n",
       " ('是', 2139),\n",
       " ('高雄', 2077),\n",
       " ('-', 1868),\n",
       " ('在', 1808),\n",
       " ('了', 1551),\n",
       " ('民進黨', 1358),\n",
       " ('有', 1217),\n",
       " ('高雄市', 1094),\n",
       " ('長', 1085),\n",
       " ('陳其邁', 1045),\n",
       " ('說', 988),\n",
       " ('就', 984),\n",
       " ('也', 975),\n",
       " ('要', 956),\n",
       " ('他', 947),\n",
       " ('都', 932),\n",
       " ('—', 926),\n",
       " ('不', 922),\n",
       " ('!', 875),\n",
       " ('\\u3000', 819),\n",
       " ('國民黨', 818),\n",
       " ('?', 796),\n",
       " ('來', 743),\n",
       " ('為', 723),\n",
       " ('讓', 684),\n",
       " ('對', 672),\n",
       " ('吳音寧', 641),\n",
       " ('與', 639),\n",
       " ('我', 636),\n",
       " ('你', 632),\n",
       " ('會', 589),\n",
       " ('被', 564),\n",
       " ('台灣', 561),\n",
       " ('到', 534),\n",
       " ('）', 522),\n",
       " ('選舉', 490),\n",
       " ('年', 481),\n",
       " ('人', 479),\n",
       " ('沒', 469),\n",
       " ('後', 467),\n",
       " ('就是', 466),\n",
       " (')', 456),\n",
       " ('但', 440),\n",
       " ('(', 431),\n",
       " ('民調', 427),\n",
       " ('又', 407),\n",
       " ('支持', 406),\n",
       " ('和', 404),\n",
       " ('市長', 393),\n",
       " ('於', 392),\n",
       " ('去', 370),\n",
       " ('嗎', 365),\n",
       " ('把', 362),\n",
       " ('母語', 360),\n",
       " ('一個', 357),\n",
       " ('陳', 355),\n",
       " ('做', 347),\n",
       " ('_', 341),\n",
       " ('什麼', 341),\n",
       " ('參選人', 333),\n",
       " ('可以', 329),\n",
       " ('跟', 320),\n",
       " ('自己', 320),\n",
       " ('好', 311),\n",
       " ('賭場', 310),\n",
       " ('更', 307),\n",
       " ('候選人', 307),\n",
       " ('月', 302),\n",
       " ('（', 300),\n",
       " ('選情', 300),\n",
       " ('\"', 299),\n",
       " ('表示', 298),\n",
       " ('不是', 296),\n",
       " ('我們', 292),\n",
       " ('很', 288),\n",
       " ('真的', 287),\n",
       " ('她', 278),\n",
       " ('日', 276),\n",
       " ('卻', 274),\n",
       " ('看', 270),\n",
       " ('不要', 269),\n",
       " ('話', 265),\n",
       " ('等', 260),\n",
       " ('柯文哲', 260),\n",
       " ('議員', 259),\n",
       " ('1', 255),\n",
       " ('網友', 254),\n",
       " ('沒有', 254),\n",
       " ('而', 251),\n",
       " ('請', 249),\n",
       " ('3', 249),\n",
       " ('能', 247),\n",
       " ('抹黑', 244),\n",
       " ('&', 244),\n",
       " ('中', 243),\n",
       " ('再', 241),\n",
       " ('問題', 239)]"
      ]
     },
     "execution_count": 110,
     "metadata": {},
     "output_type": "execute_result"
    }
   ],
   "source": [
    "jieba.load_userdict(\"term.txt\")\n",
    "\n",
    "\n",
    "han_report_result_list = [ ]\n",
    "for i in range(len(han_list)):\n",
    "     for k in jieba.cut(han_list[i], cut_all = False):\n",
    "        han_report_result_list.append(k)\n",
    "\n",
    "    \n",
    "han_report_result = sorted(Counter(han_report_result_list).items(), key=lambda x:x[1], reverse=True)\n",
    "han_report_result[0:100]\n",
    "\n",
    "#對提及韓國瑜的文章做斷詞"
   ]
  },
  {
   "cell_type": "code",
   "execution_count": 72,
   "metadata": {},
   "outputs": [
    {
     "name": "stdout",
     "output_type": "stream",
     "text": [
      "['高雄', '民進黨', '陳其邁', '國民黨', '吳音寧', '賭場', '柯文哲', '陳菊', '北農']\n",
      "[2074, 1358, 1045, 818, 641, 310, 260, 237, 228]\n"
     ]
    },
    {
     "data": {
      "text/plain": [
       "Text(0, 0.5, '次數')"
      ]
     },
     "execution_count": 72,
     "metadata": {},
     "output_type": "execute_result"
    },
    {
     "data": {
      "image/png": "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\n",
      "text/plain": [
       "<Figure size 432x288 with 1 Axes>"
      ]
     },
     "metadata": {
      "needs_background": "light"
     },
     "output_type": "display_data"
    }
   ],
   "source": [
    "hrr = han_report_result\n",
    "\n",
    "word_list = [hrr[4][0], hrr[8][0], hrr[12][0],  hrr[23][0],  hrr[29][0],  hrr[67][0],  hrr[86][0], hrr[100][0], hrr[103][0]]\n",
    "word_count =   [ hrr[4][1], hrr[8][1], hrr[12][1],  hrr[23][1],  hrr[29][1],  hrr[67][1],  hrr[86][1], hrr[100][1], hrr[103][1]]    \n",
    "          \n",
    "print(word_list)\n",
    "print(word_count)\n",
    "\n",
    "plt.bar(word_list, word_count, alpha = 0.5)\n",
    "plt.xlabel(\"字詞\", color = \"red\")\n",
    "plt.ylabel(\"次數\", color = \"red\")\n",
    "\n",
    "#提及韓國瑜的報導或網路文章中，除韓國瑜以外，最常出現的其他字詞"
   ]
  },
  {
   "cell_type": "code",
   "execution_count": 73,
   "metadata": {},
   "outputs": [
    {
     "name": "stdout",
     "output_type": "stream",
     "text": [
      "['賭場', '醫療', '觀光', '市場', '經濟', '兩岸', '淹水', '教育']\n",
      "[310, 222, 204, 200, 179, 167, 155, 152]\n"
     ]
    },
    {
     "data": {
      "text/plain": [
       "Text(0, 0.5, '次數')"
      ]
     },
     "execution_count": 73,
     "metadata": {},
     "output_type": "execute_result"
    },
    {
     "data": {
      "image/png": "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\n",
      "text/plain": [
       "<Figure size 432x288 with 1 Axes>"
      ]
     },
     "metadata": {
      "needs_background": "light"
     },
     "output_type": "display_data"
    }
   ],
   "source": [
    "word_list = [hrr[67][0], hrr[108][0], hrr[115][0], hrr[119][0], hrr[129][0], hrr[143][0], hrr[157][0], hrr[162][0]]\n",
    "word_count = [hrr[67][1], hrr[108][1], hrr[115][1], hrr[119][1], hrr[129][1], hrr[143][1], hrr[157][1], hrr[162][1]]\n",
    "print(word_list)\n",
    "print(word_count)\n",
    "\n",
    "plt.bar(word_list, word_count, alpha = 0.5)\n",
    "plt.xlabel(\"字詞\", color = \"red\")\n",
    "plt.ylabel(\"次數\", color = \"red\")\n",
    "\n",
    "#和韓國瑜有關的議題或政策"
   ]
  },
  {
   "cell_type": "code",
   "execution_count": 107,
   "metadata": {},
   "outputs": [
    {
     "data": {
      "text/plain": [
       "0     以棒球來形容這場高雄選戰，比數來到下半場，國民黨韓國瑜的打法，已跳脫傳統藍軍打選戰的窠臼，可...\n",
       "1     【相信高雄，看好未來】\\n\\n看看他們不畏逆境，奮而再起的「高雄精神」！\\n\\n是什麼樣的因...\n",
       "2     選戰倒數，短兵相接\\n韓國瑜和陳其邁今天終於同框了！\\n\\n期待高雄市今年有一場光榮的選舉。...\n",
       "3     兩人罕見同框，互動也十分熱烈\\n\\n【高雄》同框陳其邁人氣有差？韓國瑜踏綠地盤很自信】\\n👉...\n",
       "4     今天陪同陳其邁委員參加世界客屬總會高雄分會的會員大會，其邁委員向客家鄉親承諾：\\n1. 積極...\n",
       "5                               看到陳其邁說淹水的原因 吳子嘉：開始擔心他民調\n",
       "6                             韓國瑜居然落後陳其邁2.6％ 網友指還有這關鍵原因\n",
       "7     韓國瑜「空襲」深綠電台！本尊半小時狂接Call In 流灠破三萬人！\\n\\n高雄市長參選人韓...\n",
       "8     🔆看看他們不畏逆境，奮而再起的「高雄精神」！\\n\\n是什麼樣的因緣際會，讓互不相識的我們成為...\n",
       "9                                旗津設賭場辯論 韓國瑜：「陳其邁出席就參加」\n",
       "10                            韓國瑜居然落後陳其邁2.6％ 網友指還有這關鍵原因\n",
       "11                              看到陳其邁說淹水的原因 吳子嘉：開始擔心他民調\n",
       "12                           韓國瑜積極進攻「迎頭趕上」陳其邁要勝選還能老神在在？\n",
       "13                              看到陳其邁說淹水的原因 吳子嘉：開始擔心他民調\n",
       "14                            韓國瑜居然落後陳其邁2.6％ 網友指還有這關鍵原因\n",
       "15                            韓國瑜居然落後陳其邁2.6％ 網友指還有這關鍵原因\n",
       "16                               旗津設賭場辯論 韓國瑜：「陳其邁出席就參加」\n",
       "17                               旗津設賭場辯論 韓國瑜：「陳其邁出席就參加」\n",
       "18    ❤️ 高雄》豪雨淹出格局！時光若倒轉8年 唐湘龍：韓國瑜幾乎可宣布當選\\nhttp://ww...\n",
       "19                           韓國瑜積極進攻「迎頭趕上」陳其邁要勝選還能老神在在？\n",
       "20                           韓國瑜積極進攻「迎頭趕上」陳其邁要勝選還能老神在在？\n",
       "21                              看到陳其邁說淹水的原因 吳子嘉：開始擔心他民調\n",
       "22                              看到陳其邁說淹水的原因 吳子嘉：開始擔心他民調\n",
       "23                           韓國瑜積極進攻「迎頭趕上」陳其邁要勝選還能老神在在？\n",
       "24                              看到陳其邁說淹水的原因 吳子嘉：開始擔心他民調\n",
       "25    前扁辦主任分析「高雄恐翻盤」　陳其邁：選民會選做事的市長 https://www.ettod...\n",
       "26                              看到陳其邁說淹水的原因 吳子嘉：開始擔心他民調\n",
       "27                            韓國瑜居然落後陳其邁2.6％ 網友指還有這關鍵原因\n",
       "28                              看到陳其邁說淹水的原因 吳子嘉：開始擔心他民調\n",
       "29                               旗津設賭場辯論 韓國瑜：「陳其邁出席就參加」\n",
       "30                              看到陳其邁說淹水的原因 吳子嘉：開始擔心他民調\n",
       "31                           韓國瑜積極進攻「迎頭趕上」陳其邁要勝選還能老神在在？\n",
       "32    陳其邁：整治美濃溪、提高客委會預算  照顧客家鄉親\\n- - - - -\\n💡新頭殼LINE...\n",
       "33    出席記者節慶祝活動 陳其邁：持續捍衛新聞自由\\n- - - - -\\n💡新頭殼LINE@生活...\n",
       "34    本黨桃園市長鄭文燦、台中市長林佳龍、台南市長參選人黃偉哲、高雄市長參選人陳其邁被評估選情穩定...\n",
       "35     登記後發表高雄宣言 陳其邁：奉獻給一生懸命的地方登記後發表高雄宣言 陳其邁：奉獻給一生懸命的地方\n",
       "36                         前扁辦主任分析「高雄恐翻盤」　陳其邁：選民會選做事的市長\n",
       "37    講話也是一門藝術啊\\n\\n江湖在走，【 TVBS 新聞 官方Line】要有→https://...\n",
       "38    韓國瑜：效法前宜蘭縣長陳定南以鐵鎚敲打驗收\\n陳其邁：以東京道路為標準，8小時KO坑洞\\n#...\n",
       "39    【陳其邁稱高雄淹水原因是這個　媒體人：開始擔心他民調】\\n這次是否能拿下高雄呢？\\n.\\n【...\n",
       "40    陳其邁說「高雄是有情有義的城市，會選出一個會做事的市長」\\n有情有義的高雄市民們，決定好心目...\n",
       "41    陳其邁是說謝長廷陳菊在混嗎？\\n民進黨執政多久路就爛多久了\\n\\n#這是怎麼樣的施工品質？\\...\n",
       "42    ★作者:陳水扁總統\\n［新勇哥物語］-211\\n—高雄市「一邊一國連線」為年底選戰開第一槍，...\n",
       "43    【道路5000坑洞！「韓」批太病態　「陳」師法東京品質】\\n這下水災相關問題成為高雄競選的主...\n",
       "44    一場雨 高市道路炸出5000個坑洞！韓國瑜批病態 陳其邁提路平學東京\\n連日豪雨狂「炸」高雄...\n",
       "45    ★作者:陳水扁總統\\n［新勇哥物語］-211\\n—高雄市「一邊一國連線」為年底選戰開第一槍，...\n",
       "46                   一場雨 高市道路炸出5000個坑洞！韓國瑜批病態 陳其邁提路平學東京\n",
       "47        陳其邁是說謝長廷陳菊在混嗎？\\n民進黨執政多久路就爛多久了\\n\\n#這是怎麼樣的施工品質？\n",
       "48                   一場雨 高市道路炸出5000個坑洞！韓國瑜批病態 陳其邁提路平學東京\n",
       "49    【關心雨後重建 爭取泡水汽機車補助並放寬淹水補助門檻】✨\\n\\n上午陪同陳其邁委員早上再次回...\n",
       "dtype: object"
      ]
     },
     "execution_count": 107,
     "metadata": {},
     "output_type": "execute_result"
    }
   ],
   "source": [
    "message = file[\"Message\"]\n",
    "chen_list = [ ]\n",
    "message = message.astype(str)\n",
    "\n",
    "for i in message:\n",
    "    if \"陳其邁\" in i:\n",
    "        chen_list.append(i)\n",
    "        \n",
    "chen_ser = pd.Series(chen_list)\n",
    "chen_ser.head(50)\n",
    "\n",
    "# 9 月所有有提及陳其邁的報導或文章，共1263篇"
   ]
  },
  {
   "cell_type": "code",
   "execution_count": 111,
   "metadata": {},
   "outputs": [],
   "source": [
    "del_list = [\"，\",\"\\n\",\"、\",\"。\",\"/\",\"！\",\"【\",\"】\",\".\",\"「\",\"」\",\"：\",\"？\",\"《\",\"》\",\":\",\"http\",\"=\",\" \",\"；\"]\n",
    "for j in del_list:\n",
    "    chen_list = [i.replace(j,\"\") for i in chen_list]"
   ]
  },
  {
   "cell_type": "code",
   "execution_count": 112,
   "metadata": {},
   "outputs": [
    {
     "data": {
      "text/plain": [
       "[('的', 4454),\n",
       " ('陳其邁', 2125),\n",
       " ('高雄', 1795),\n",
       " ('-', 1668),\n",
       " ('#', 1548),\n",
       " ('韓國瑜', 1415),\n",
       " ('—', 1264),\n",
       " ('在', 1164),\n",
       " ('是', 1116),\n",
       " ('高雄市', 865),\n",
       " ('長', 829),\n",
       " ('民進黨', 820),\n",
       " ('!', 701),\n",
       " ('了', 692),\n",
       " ('也', 663),\n",
       " ('有', 652),\n",
       " ('與', 630),\n",
       " ('他', 486),\n",
       " ('說', 472),\n",
       " ('都', 468),\n",
       " ('對', 457),\n",
       " ('讓', 438),\n",
       " ('要', 430),\n",
       " ('不', 424),\n",
       " ('年', 423),\n",
       " ('為', 422),\n",
       " ('就', 421),\n",
       " ('市長', 413),\n",
       " ('來', 406),\n",
       " ('支持', 379),\n",
       " ('\\u3000', 360),\n",
       " ('我', 355),\n",
       " ('民調', 341),\n",
       " ('?', 336),\n",
       " ('會', 334),\n",
       " ('到', 298),\n",
       " ('陳', 298),\n",
       " ('國民黨', 297),\n",
       " ('於', 286),\n",
       " ('後', 282),\n",
       " ('又', 282),\n",
       " ('台灣', 281),\n",
       " ('選舉', 275),\n",
       " ('(', 269),\n",
       " (')', 269),\n",
       " ('人', 266),\n",
       " ('陳菊', 263),\n",
       " ('你', 254),\n",
       " ('但', 250),\n",
       " ('未來', 249),\n",
       " ('參選人', 247),\n",
       " ('被', 246),\n",
       " ('等', 243),\n",
       " ('）', 243),\n",
       " ('和', 242),\n",
       " ('更', 238),\n",
       " ('黃', 237),\n",
       " ('（', 219),\n",
       " ('選情', 215),\n",
       " ('議員', 209),\n",
       " ('就是', 205),\n",
       " ('立委', 204),\n",
       " ('嗎', 203),\n",
       " ('沒', 198),\n",
       " ('候選人', 194),\n",
       " ('\"', 192),\n",
       " ('日', 191),\n",
       " ('發展', 190),\n",
       " ('我們', 188),\n",
       " ('好', 180),\n",
       " ('相信', 179),\n",
       " ('卻', 179),\n",
       " ('政策', 175),\n",
       " ('上', 172),\n",
       " ('最', 171),\n",
       " ('而', 170),\n",
       " ('e5%', 170),\n",
       " ('中', 168),\n",
       " ('表示', 168),\n",
       " ('月', 167),\n",
       " ('做', 165),\n",
       " ('e9%', 162),\n",
       " ('從', 157),\n",
       " ('政治', 157),\n",
       " ('>', 152),\n",
       " ('可以', 150),\n",
       " ('及', 149),\n",
       " ('大', 149),\n",
       " ('把', 148),\n",
       " ('很', 148),\n",
       " ('不是', 147),\n",
       " ('自己', 146),\n",
       " ('真的', 144),\n",
       " ('成立', 142),\n",
       " ('挺', 141),\n",
       " ('大家', 141),\n",
       " ('地方', 140),\n",
       " ('跟', 140),\n",
       " ('新聞', 138),\n",
       " ('能', 136)]"
      ]
     },
     "execution_count": 112,
     "metadata": {},
     "output_type": "execute_result"
    }
   ],
   "source": [
    "jieba.load_userdict(\"term.txt\")\n",
    "\n",
    "\n",
    "chen_report_result_list = [ ]\n",
    "for i in range(len(chen_list)):\n",
    "     for k in jieba.cut(chen_list[i], cut_all = False):\n",
    "        chen_report_result_list.append(k)\n",
    "\n",
    "    \n",
    "chen_report_result = sorted(Counter(chen_report_result_list).items(), key=lambda x:x[1], reverse=True)\n",
    "chen_report_result[0:100]\n",
    "\n",
    "#對提及陳其邁的文章做斷詞"
   ]
  },
  {
   "cell_type": "code",
   "execution_count": 74,
   "metadata": {},
   "outputs": [
    {
     "name": "stdout",
     "output_type": "stream",
     "text": [
      "['高雄', '韓國瑜', '民進黨', '市長', '民調', '國民黨', '選舉', '陳菊', '發展']\n",
      "[1795, 1415, 820, 413, 341, 297, 275, 263, 190]\n"
     ]
    },
    {
     "data": {
      "text/plain": [
       "Text(0, 0.5, '次數')"
      ]
     },
     "execution_count": 74,
     "metadata": {},
     "output_type": "execute_result"
    },
    {
     "data": {
      "image/png": "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\n",
      "text/plain": [
       "<Figure size 432x288 with 1 Axes>"
      ]
     },
     "metadata": {
      "needs_background": "light"
     },
     "output_type": "display_data"
    }
   ],
   "source": [
    "crr = chen_report_result\n",
    "word_list = [crr[2][0], crr[5][0], crr[11][0],crr[27][0], crr[32][0],crr[37][0],crr[42][0], crr[46][0],crr[67][0]]\n",
    "word_count = [crr[2][1], crr[5][1], crr[11][1],crr[27][1], crr[32][1],crr[37][1],crr[42][1], crr[46][1],crr[67][1]]\n",
    "print(word_list)\n",
    "print(word_count)\n",
    "\n",
    "plt.bar(word_list, word_count, alpha = 0.5, color = \"green\")\n",
    "plt.xlabel(\"字詞\", color = \"red\")\n",
    "plt.ylabel(\"次數\", color = \"red\")\n",
    "\n",
    "#提及韓國瑜的報導或網路文章中，除陳其邁以外，最常出現的其他字詞"
   ]
  },
  {
   "cell_type": "code",
   "execution_count": 85,
   "metadata": {},
   "outputs": [
    {
     "name": "stdout",
     "output_type": "stream",
     "text": [
      "['經濟', '淹水', '觀光', '醫療', '建設']\n",
      "[115, 110, 106, 94, 91]\n"
     ]
    },
    {
     "data": {
      "text/plain": [
       "Text(0, 0.5, '次數')"
      ]
     },
     "execution_count": 85,
     "metadata": {},
     "output_type": "execute_result"
    },
    {
     "data": {
      "image/png": "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\n",
      "text/plain": [
       "<Figure size 432x288 with 1 Axes>"
      ]
     },
     "metadata": {
      "needs_background": "light"
     },
     "output_type": "display_data"
    }
   ],
   "source": [
    "word_list = [crr[114][0], crr[119][0], crr[128][0], crr[156][0], crr[167][0]]\n",
    "word_count = [crr[114][1], crr[119][1], crr[128][1], crr[156][1], crr[167][1]]\n",
    "print(word_list)\n",
    "print(word_count)\n",
    "\n",
    "plt.bar(word_list, word_count, alpha = 0.5 , color = \"green\")\n",
    "plt.xlabel(\"字詞\", color = \"red\")\n",
    "plt.ylabel(\"次數\", color = 'red')\n",
    "\n",
    "#和陳其邁有關的議題或政策"
   ]
  }
 ],
 "metadata": {
  "kernelspec": {
   "display_name": "Python 3",
   "language": "python",
   "name": "python3"
  },
  "language_info": {
   "codemirror_mode": {
    "name": "ipython",
    "version": 3
   },
   "file_extension": ".py",
   "mimetype": "text/x-python",
   "name": "python",
   "nbconvert_exporter": "python",
   "pygments_lexer": "ipython3",
   "version": "3.7.1"
  }
 },
 "nbformat": 4,
 "nbformat_minor": 2
}
